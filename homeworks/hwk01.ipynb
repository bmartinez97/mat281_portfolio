{
 "cells": [
  {
   "cell_type": "markdown",
   "metadata": {},
   "source": [
    "# MAT281 - Tarea 1"
   ]
  },
  {
   "cell_type": "markdown",
   "metadata": {},
   "source": [
    "## SVD y Gatitos \n",
    "\n",
    "En este ejercicio utilizaremos la descomposición valor singular con tal de comprimir imágenes, si bien hay algoritmos mucho mejores para esto, será un ejercicio muy ilustrativo. "
   ]
  },
  {
   "cell_type": "markdown",
   "metadata": {},
   "source": [
    "### Recuerdo"
   ]
  },
  {
   "cell_type": "markdown",
   "metadata": {},
   "source": [
    "La descomposición SVD de una matriz $A$ de tamaño $m \\times n$ posee la siguiente forma \n",
    "$$\n",
    "A = U \\Sigma V^H\n",
    "$$\n",
    "donde $\\Sigma$ es diagonal $m \\times n$, mientras que $U$ y $V$ son matrices unitarias $m \\times m$ and $n \\times n$, respectivamente. Los elementos diagonales de $\\Sigma$ son no-negativos y aquellos valores positivos son llamados **valores singulares** de $A$. Como convención los valores singulares se listan en orden decreciente a lo largo de la diagonal. Las columnas de $U$ y $V$ son llamadas **vectores singulares** izquierdos y derechos respectivamente.\n",
    "\n",
    "PD: Recuerda que $A^H = \\bar{A}^\\top$, es decir, la matriz traspuesta de la matriz conjugada."
   ]
  },
  {
   "cell_type": "code",
   "execution_count": null,
   "metadata": {},
   "outputs": [],
   "source": [
    "import numpy as np\n",
    "from scipy.linalg import svd\n",
    "\n",
    "np.random.seed(42)  # Para reproducibilidad de resultados"
   ]
  },
  {
   "cell_type": "markdown",
   "metadata": {},
   "source": [
    "Por ejemplo para una matriz de $2 \\times 2$:"
   ]
  },
  {
   "cell_type": "code",
   "execution_count": null,
   "metadata": {},
   "outputs": [],
   "source": [
    "A = np.array([[0.1, 0.5], [0.4, 0.8]])\n",
    "u, s, vh = svd(A)"
   ]
  },
  {
   "cell_type": "markdown",
   "metadata": {},
   "source": [
    "#### Ejercicio 1\n",
    "\n",
    "(5 puntos)\n",
    "\n",
    "Define la función `svd_validaton` tal que:\n",
    "\n",
    "1. El _input_ sea un arreglo bidimensional `A` de tamaño $m \\times n$.\n",
    "2. Obtenga la descomposición valor singular de `A`.\n",
    "3. Retorne `True` o `False` si es que se cumple la igualdad \n",
    "$$\n",
    "A = \\sum_{l=1}^{\\min(m, n)} \\sigma_l \\; u_l v_l^H,\n",
    "$$\n",
    "donde $\\sigma_l$ corresponden a los valores singulares de $A$, mientras que $u_i$ y $v_j$ a las columnas de $U$ y $V$ respectivamente. Hint: Utiliza `np.allclose` con la tolerancia por defecto."
   ]
  },
  {
   "cell_type": "code",
   "execution_count": null,
   "metadata": {},
   "outputs": [],
   "source": [
    "def svd_validation(A):\n",
    "   # FIX ME PLEASE #"
   ]
  },
  {
   "cell_type": "code",
   "execution_count": null,
   "metadata": {},
   "outputs": [],
   "source": [
    "A_test = np.random.randint(100, size=(20, 5))\n",
    "svd_validation(A_test)"
   ]
  },
  {
   "cell_type": "markdown",
   "metadata": {},
   "source": [
    "### Geometría"
   ]
  },
  {
   "cell_type": "markdown",
   "metadata": {},
   "source": [
    "Considerar una matriz `A` como un operador lineal tiene una interpretación geométrica muy sencilla, transforma una (hyper)-esfera en una (hyper)-elipse. Por ejemplo, consideremos una esfera unitaria en $\\mathbb{R}^2$."
   ]
  },
  {
   "cell_type": "code",
   "execution_count": null,
   "metadata": {},
   "outputs": [],
   "source": [
    "import matplotlib.pyplot as plt\n",
    "%matplotlib inline"
   ]
  },
  {
   "cell_type": "code",
   "execution_count": null,
   "metadata": {},
   "outputs": [],
   "source": [
    "def show_circle(circle):\n",
    "    plt.plot(circle[0, :], circle[1, :])\n",
    "    plt.axis('image');"
   ]
  },
  {
   "cell_type": "code",
   "execution_count": null,
   "metadata": {},
   "outputs": [],
   "source": [
    "t = np.linspace(0, 3.5 * np.pi , num=300)\n",
    "l = np.linspace(-1, 1, num=10)\n",
    "z = np.zeros_like(l)\n",
    "circle = np.array(\n",
    "    [\n",
    "        np.concatenate([l, np.cos(t), z]),\n",
    "        np.concatenate([z, np.sin(t), l])\n",
    "    ]\n",
    ")\n",
    "\n",
    "show_circle(circle) "
   ]
  },
  {
   "cell_type": "markdown",
   "metadata": {},
   "source": [
    "Luego, al utilizar `A` como un operador lineal, es decir $A C$."
   ]
  },
  {
   "cell_type": "code",
   "execution_count": null,
   "metadata": {},
   "outputs": [],
   "source": [
    "print(A)"
   ]
  },
  {
   "cell_type": "code",
   "execution_count": null,
   "metadata": {},
   "outputs": [],
   "source": [
    "show_circle(A @ circle)"
   ]
  },
  {
   "cell_type": "markdown",
   "metadata": {},
   "source": [
    "#### Ejercicio 2\n",
    "\n",
    "(5 puntos)\n",
    "\n",
    "* Obtén la descomposición SVD de $A$, tal que $A = U \\Sigma V^H$.\n",
    "* Grafica el resultado de aplicar los siguientes operadores lineales a la circunferencia unitaria:\n",
    "    - $U$\n",
    "    - $\\Sigma$\n",
    "    - $V^H$\n",
    "* Explica con tus palabras la transformación de la circunferencia unitaria luego de aplicar los operadores anteriores, ¿Influye en algo que $U$ y $V$ sean unitarias?\n",
    "* ¿Qué relación tienen los operadores anteriores respecto a aplicar el operador lineal $A$?"
   ]
  },
  {
   "cell_type": "code",
   "execution_count": null,
   "metadata": {},
   "outputs": [],
   "source": [
    "u, s, vh = # FIX ME PLEASE #"
   ]
  },
  {
   "cell_type": "code",
   "execution_count": null,
   "metadata": {},
   "outputs": [],
   "source": [
    "show_circle(# FIX ME PLEASE #)"
   ]
  },
  {
   "cell_type": "code",
   "execution_count": null,
   "metadata": {},
   "outputs": [],
   "source": [
    "show_circle(# FIX ME PLEASE #)"
   ]
  },
  {
   "cell_type": "code",
   "execution_count": null,
   "metadata": {},
   "outputs": [],
   "source": [
    "show_circle(# FIX ME PLEASE #)"
   ]
  },
  {
   "cell_type": "code",
   "execution_count": null,
   "metadata": {},
   "outputs": [],
   "source": []
  },
  {
   "cell_type": "markdown",
   "metadata": {},
   "source": [
    "__Respuesta:__ # FIX ME PLEASE #"
   ]
  },
  {
   "cell_type": "markdown",
   "metadata": {},
   "source": [
    "__Respuesta:__ # FIX ME PLEASE #"
   ]
  },
  {
   "cell_type": "markdown",
   "metadata": {},
   "source": [
    "### Aproximación Rango Menor"
   ]
  },
  {
   "cell_type": "markdown",
   "metadata": {},
   "source": [
    "Existen muchas maneras de expresar una matriz como una suma de matrices de menor rango, por ejemplo:\n",
    "\n",
    "$$\n",
    "\\begin{bmatrix}\n",
    "a & b \\\\\n",
    "c & d \n",
    "\\end{bmatrix}\n",
    "= \n",
    "\\begin{bmatrix}\n",
    "a & 0 \\\\ 0 & 0  \n",
    "\\end{bmatrix}\n",
    "+ \n",
    "\\begin{bmatrix}\n",
    "0 & b \\\\ 0 & 0 \n",
    "\\end{bmatrix}\n",
    "+ \n",
    "\\begin{bmatrix}\n",
    "0 & 0 \\\\ c & 0 \n",
    "\\end{bmatrix}\n",
    "+\n",
    "\\begin{bmatrix}\n",
    "0 & 0 \\\\ 0 & d \n",
    "\\end{bmatrix}.\n",
    "$$\n",
    "\n",
    "Cada una de las matrices del lado derecho pueden tener rango a lo más 1."
   ]
  },
  {
   "cell_type": "markdown",
   "metadata": {},
   "source": [
    "En el primer ejercicio demostraste que la descomposición SVD $A$ puede ser expresada como una suma de matrices. Sin embargo, cada una de estas matrices tiene rango 1! Esto pues cada una de estas matrices se forma a partir de los productos externos entre los vectores $u_l$ y $v_l$, es decir $u_l v_l^H$.\n",
    "\n",
    "La pregunta natural es:\n",
    "\n",
    "_¿Cómo obtener una buena aproximación de $A$ utilizando matrices de rango muy bajo?_\n",
    "\n",
    "Bueno, aquí va un teorema."
   ]
  },
  {
   "cell_type": "markdown",
   "metadata": {},
   "source": [
    "__Teorema 1:__\n",
    "\n",
    "\n",
    "\n",
    "Sea $A$ matriz de tamaño $m \\times n$. Para cualquier $0 \\le \\ell \\le r = \\text{rank}(A)$, se define la matriz \n",
    "$$\n",
    "A_\\ell = \\sum_{j=1}^{\\ell} \\sigma_j u_j v_j^*,\n",
    "$$\n",
    "utilizando los valores singulares $\\sigma_j$ y los vectores singulares (izquierdos y derechos) $u_j, v_j$ de $A$,  i.e., $A_\\ell$ se compone de la suma de los primeros $\\ell$ términos de la descomposición SVD escrita como una suma de productor externos. Luego, el mínimo de  $\\| A - B \\|_F$ sobre todas las matrices $B$ de tamaño $m \\times n$ y rango no mayor a $\\ell$ se obtiene por $\\| A - A_\\ell \\|_F$ y el mínimo que se alcanza es  $(\\sigma_{\\ell+1}^2 + \\cdots + \\sigma_r^2)^{1/2}$.\n",
    "\n",
    "Recuerda que la norma de Frobenius se define como\n",
    "\n",
    "$$\n",
    "\\| A \\|_F = \\bigg( \\sum_{i, j} |A_{ij}|^2 \\bigg)^{1/2}.\n",
    "$$"
   ]
  },
  {
   "cell_type": "markdown",
   "metadata": {},
   "source": [
    "Motivaremos el ejercicio utilizando imágenes en escala de grises ya que es muy intuitivo, fácil de ver y se puede considerar que la imagen es una matriz."
   ]
  },
  {
   "cell_type": "code",
   "execution_count": null,
   "metadata": {},
   "outputs": [],
   "source": [
    "from pathlib import Path\n",
    "from PIL import Image"
   ]
  },
  {
   "cell_type": "code",
   "execution_count": null,
   "metadata": {},
   "outputs": [],
   "source": [
    "# Utilizaremos una foto de una de mis gatitas c:\n",
    "cat = Image.open(Path().resolve().parent / \"images\" / \"coyoya.jpg\").convert('L')\n",
    "cat"
   ]
  },
  {
   "cell_type": "markdown",
   "metadata": {},
   "source": [
    "Para convertirla en un numpy array basta con:"
   ]
  },
  {
   "cell_type": "code",
   "execution_count": null,
   "metadata": {},
   "outputs": [],
   "source": [
    "cat_np = np.array(cat)\n",
    "print(cat_np.shape)"
   ]
  },
  {
   "cell_type": "markdown",
   "metadata": {},
   "source": [
    "#### Ejercicio 3\n",
    "\n",
    "(10 puntos)\n",
    "\n",
    "Define la función `low_rank_svd_approximation` tal que:\n",
    "\n",
    "* Los inputs sean $A$ (la imagen convertida un `np.array` de dimensión 2) y un valor entero $\\ell$ que represente la cantidad de términos a sumar de la despomposición SVD (respecto al teorema anterior).\n",
    "* Retorne la aproximación $A_\\ell$\n",
    "* Imprima el error de la aproximación utilizando la norma de Frobenius.\n",
    "\n",
    "Luego prueba tu función y observa la imagen con distintos valores de $\\ell$."
   ]
  },
  {
   "cell_type": "code",
   "execution_count": null,
   "metadata": {},
   "outputs": [],
   "source": [
    "def low_rank_svd_approximation(A, l):\n",
    "    # FIX ME PLEASE #"
   ]
  },
  {
   "cell_type": "code",
   "execution_count": null,
   "metadata": {},
   "outputs": [],
   "source": [
    "cat10 = low_rank_svd_approximation(cat_np, l=10)\n",
    "plt.imshow(cat10, cmap='gray');"
   ]
  },
  {
   "cell_type": "code",
   "execution_count": null,
   "metadata": {},
   "outputs": [],
   "source": [
    "cat50 = low_rank_svd_approximation(cat_np, l=50)\n",
    "plt.imshow(cat50, cmap='gray');"
   ]
  },
  {
   "cell_type": "markdown",
   "metadata": {},
   "source": [
    "#### Ejercicio 4\n",
    "\n",
    "(15 puntos)\n",
    "\n",
    "En el ejercicio anterior fijaste un rango máximo y obtuviste la aproximación, sin embargo, en otro contexto, te gustaría fijar una tolerancia de error y obtener la mejor aproximación.\n",
    "\n",
    "Define la función `low_rank_svd_tol_approximation` tal que:\n",
    "\n",
    "* Los inputs sean $A$ (la imagen convertida un `np.array` de dimensión 2) y $\\varepsilon$ (tolerancia relativa) tal que\n",
    "$$\n",
    "\\left(\\frac{\\sigma_{\\ell+1}^2 + \\cdots + \\sigma_r^2}{\\sigma_1^2 + \\cdots + \\sigma_r^2}\\right)^{1/2} \\le \\varepsilon.\n",
    "$$\n",
    "* Imprima $\\ell(\\varepsilon)$, es decir, el mayor rango aproximado de $A$ tal que el error de aproximación sea a lo más $\\varepsilon$.\n",
    "* Retorne la aproximación $A_{\\ell(\\varepsilon)}$\n",
    "\n",
    "Luego prueba tu función y observa la imagen con distintos valores de $\\varepsilon$."
   ]
  },
  {
   "cell_type": "code",
   "execution_count": null,
   "metadata": {},
   "outputs": [],
   "source": [
    "def low_rank_svd_tol_approximation(A, tol):\n",
    "    # FIX ME PLEASE #"
   ]
  },
  {
   "cell_type": "code",
   "execution_count": null,
   "metadata": {},
   "outputs": [],
   "source": [
    "cat_e1 = low_rank_svd_tol_approximation(cat_np, tol=1.e-1)\n",
    "plt.imshow(cat_e1, cmap='gray');"
   ]
  },
  {
   "cell_type": "code",
   "execution_count": null,
   "metadata": {},
   "outputs": [],
   "source": [
    "cat_e2 = low_rank_svd_tol_approximation(cat_np, tol=1.e-2)\n",
    "plt.imshow(cat_e2, cmap='gray');"
   ]
  },
  {
   "cell_type": "markdown",
   "metadata": {},
   "source": [
    "#### Ejercicio 5\n",
    "\n",
    "(5 puntos)\n",
    "\n",
    "Utilizando alguna imagen de tu preferencia utiliza ambas"
   ]
  },
  {
   "cell_type": "code",
   "execution_count": null,
   "metadata": {},
   "outputs": [],
   "source": [
    "your_img_name = # FIX ME PLEASE #\n",
    "your_img = Image.open(Path().resolve().parent / \"images\" / your_img_name ).convert('L')\n",
    "your_img"
   ]
  },
  {
   "cell_type": "code",
   "execution_count": null,
   "metadata": {},
   "outputs": [],
   "source": [
    "your_img_np = # FIX ME PLEASE #"
   ]
  },
  {
   "cell_type": "code",
   "execution_count": null,
   "metadata": {},
   "outputs": [],
   "source": [
    "your_img10 = low_rank_svd_approximation(your_img_np, l=10)\n",
    "plt.imshow(your_img10, cmap='gray');"
   ]
  },
  {
   "cell_type": "code",
   "execution_count": null,
   "metadata": {},
   "outputs": [],
   "source": [
    "your_img50 = low_rank_svd_approximation(your_img_np, l=20)\n",
    "plt.imshow(your_img50, cmap='gray');"
   ]
  },
  {
   "cell_type": "code",
   "execution_count": null,
   "metadata": {},
   "outputs": [],
   "source": [
    "your_img_e1 = low_rank_svd_tol_approximation(your_img_np, tol=1.e-1)\n",
    "plt.imshow(your_img_e1, cmap='gray');"
   ]
  },
  {
   "cell_type": "code",
   "execution_count": null,
   "metadata": {},
   "outputs": [],
   "source": [
    "your_img_e2 = low_rank_svd_tol_approximation(your_img_np, tol=1.e-2)\n",
    "plt.imshow(your_img_e2, cmap='gray');"
   ]
  },
  {
   "cell_type": "markdown",
   "metadata": {},
   "source": [
    "__Pregunta:__ ¿Será una manera útil de comprimir imágenes en el disco duro o crees que existen otras formas más eficientes?\n",
    "\n",
    "__Respuesta:__"
   ]
  },
  {
   "cell_type": "markdown",
   "metadata": {},
   "source": [
    "## COVID-19 en Chile"
   ]
  },
  {
   "cell_type": "markdown",
   "metadata": {},
   "source": [
    "### *¿Cuál es el panorama actual de Chile frente a la pandemia de COVID-19?*"
   ]
  },
  {
   "cell_type": "code",
   "execution_count": null,
   "metadata": {},
   "outputs": [],
   "source": [
    "import pandas as pd\n",
    "from datetime import date"
   ]
  },
  {
   "cell_type": "markdown",
   "metadata": {},
   "source": [
    "#### Ejercicio 6\n",
    "\n",
    "(25 puntos)\n",
    "\n",
    "Se ha hablado mucho últimamente que Magallanes es una región crítica en cuanto a casos confirmados de COVID-19. Este ejercicio busca constatar a través de los datos aquellas aseveraciones con un indicador siemple pero que parece ser efectivo que bautizaremos como _tasa promedio de casos nuevos_, definida como el promedio de nuevos casos cada cien mil habitantes para un umbral de tiempo determinado.\n",
    "\n",
    "Utiliza el dataframe `covid_comunas` para obtener el dataframe `covid_tasa_promedio_nuevos` que posee las columnas `region`, `comuna`, `promedio_casos_nuevos`, `poblacion` y `tasa_promedio_casos_nuevos` considerando el umbral de tiempo es entre el 1 y 11 de octubre del año 2020.\n",
    "\n",
    "Para ello considera lo siguiente:\n",
    "\n",
    "* No consideres registros que tengan código de comuna nulo.\n",
    "* Rellena todos los registros de casos totales nulos por cero.\n",
    "* Considera utilizar `melt` u otro método similar para apilar las columnas de fechas particulares en solo dos columnas, `fecha` y `casos_totales`.\n",
    "* Define la columna `casos_nuevos` como la diferencia entre dos registros consecutivos para una misma comuna\n",
    "    - No olvides ordenar por fecha\n",
    "    - El primer registro de cada comuna debe ser nulo.\n",
    "    - Considera utilizar el método `transform`.\n",
    "* Filtra por el umbral de tiempo dado.\n",
    "* Agrupa por región-comuna y luego define la columna `promedio_casos_nuevos` como el promedio de la columna `casos_nuevos`.\n",
    "* En caso que hayas _dropeado_ la columna `poblacion` la puedes volver a agregar utilizando `merge` u otro método apropiado. Se asume que la población no cambia durante el tiempo.\n",
    "* Asigna la columna `tasa_promedio_casos_nuevos` como la cantidad promedio de casos nuevos por cada cien mil habitantes.\n",
    "* Ordena el dataframe resultante por `tasa_promedio_casos_nuevos` de manera descendente.\n",
    "\n",
    "Información del dataset: [aquí](https://github.com/MinCiencia/Datos-COVID19/tree/master/output/producto1)."
   ]
  },
  {
   "cell_type": "code",
   "execution_count": null,
   "metadata": {},
   "outputs": [],
   "source": [
    "covid_comunas = (\n",
    "    pd.read_csv(\"https://raw.githubusercontent.com/MinCiencia/Datos-COVID19/master/output/producto1/Covid-19.csv\")\n",
    "    .rename(columns=lambda x: x.lower().replace(\" \", \"_\"))\n",
    ")\n",
    "covid_comunas.head()"
   ]
  },
  {
   "cell_type": "code",
   "execution_count": null,
   "metadata": {},
   "outputs": [],
   "source": [
    "start_date = # FIX ME PLEASE #\n",
    "end_date = # FIX ME PLEASE #"
   ]
  },
  {
   "cell_type": "code",
   "execution_count": null,
   "metadata": {},
   "outputs": [],
   "source": [
    "covid_tasa_promedio_nuevos = \n",
    "    # FIX ME PLEASE #"
   ]
  },
  {
   "cell_type": "code",
   "execution_count": null,
   "metadata": {},
   "outputs": [],
   "source": [
    "covid_tasa_promedio_nuevos"
   ]
  },
  {
   "cell_type": "markdown",
   "metadata": {},
   "source": [
    "__Pregunta:__ ¿Qué puedes observar respecto a las comunas que tienen mayor Tasa Promedio de Casos Nuevos?\n",
    "\n",
    "__Respuesta:__"
   ]
  },
  {
   "cell_type": "markdown",
   "metadata": {},
   "source": [
    "#### Ejercicio 7\n",
    "\n",
    "(15 puntos)\n",
    "\n",
    "¿Hay correlación entre la cantidad de exámenes PCR y los casos confirmados en cada comuna?\n",
    "\n",
    "\n",
    "Información del dataset: [aquí](https://github.com/MinCiencia/Datos-COVID19/tree/master/output/producto7)."
   ]
  },
  {
   "cell_type": "code",
   "execution_count": null,
   "metadata": {},
   "outputs": [],
   "source": [
    "covid_pcr = (\n",
    "    pd.read_csv(\"https://raw.githubusercontent.com/MinCiencia/Datos-COVID19/master/output/producto7/PCR.csv\")\n",
    "    .rename(columns=lambda x: x.lower().replace(\" \", \"_\"))\n",
    ")\n",
    "covid_pcr.head()"
   ]
  },
  {
   "cell_type": "markdown",
   "metadata": {},
   "source": [
    "Obtén el dataframe `covid_pcr_melt` utilizando `covid_pcr` tal que:\n",
    "\n",
    "* Tenga las columnas `region`, `fecha` y `nm_pcr`.\n",
    "* `fecha` sea del tipo `datetime64`.\n",
    "* `nm_pcr` sea el número de PCR realizados y rellena los valores nulos por cero."
   ]
  },
  {
   "cell_type": "code",
   "execution_count": null,
   "metadata": {},
   "outputs": [],
   "source": [
    "covid_pcr_melt = (\n",
    "    # FIX ME PLEASE #\n",
    ")\n",
    "\n",
    "covid_pcr_melt.head()"
   ]
  },
  {
   "cell_type": "markdown",
   "metadata": {},
   "source": [
    "Obtén el dataframe `covid_casos_melt` utilizando `covid_casos` tal que:\n",
    "\n",
    "* Tenga las columnas `region`, `fecha` y `casos_totales`.\n",
    "* Rellena los valores nulos con cero.\n",
    "* `fecha` sea del tipo `datetime64`.\n",
    "* `casos_totales` sea la cantidad de casos totales por región y fecha."
   ]
  },
  {
   "cell_type": "code",
   "execution_count": null,
   "metadata": {},
   "outputs": [],
   "source": [
    "covid_casos_melt = (\n",
    "    # FIX ME PLEASE #\n",
    ")\n",
    "\n",
    "covid_casos_melt"
   ]
  },
  {
   "cell_type": "markdown",
   "metadata": {},
   "source": [
    "Finalmente, obtén la serie `covid_corr_casos_pcr` de la siguiente manera:\n",
    "\n",
    "* Une `covid_pcr_melt` y `covid_casos_melt` a través de _merge_, utilizando la región y la fecha como llave, además conserva todos los registros (tanto derecha como izquierda).\n",
    "* Rellena los números de PCR con el valor cero.\n",
    "* Haz un `ffill` a los casos totales.\n",
    "* Agrupa por región y obtén la correlación entre `nm_pcr` y `casos_totales`.\n",
    "* Ordena los valores ascendentemente."
   ]
  },
  {
   "cell_type": "code",
   "execution_count": null,
   "metadata": {},
   "outputs": [],
   "source": [
    "covid_corr_casos_pcr = (\n",
    "    # FIX ME PLEASE #\n",
    ")\n",
    "\n",
    "covid_corr_casos_pcr"
   ]
  },
  {
   "cell_type": "markdown",
   "metadata": {},
   "source": [
    "__Pregunta:__ ¿Qué puedes inferir del análisis anterior? ¿Se condice con tu sentido común?\n",
    "\n",
    "__Respuesta:__"
   ]
  },
  {
   "cell_type": "markdown",
   "metadata": {},
   "source": [
    "#### Ejercicio 8\n",
    "\n",
    "(10 puntos)\n",
    "\n",
    "Propón y responde una pregunta que puedas resolver analizando dos o más conjuntos de datos del repositorio oficial de datos COVID-19 del Ministerio de Ciencia, Tecnología e Innovación de Chile ([link](https://github.com/MinCiencia/Datos-COVID19)).\n",
    "\n",
    "Se evaluará originalidad, análisis de datos, calidad de la pregunta y respuesta."
   ]
  },
  {
   "cell_type": "markdown",
   "metadata": {},
   "source": [
    "__Pregunta:__"
   ]
  },
  {
   "cell_type": "code",
   "execution_count": null,
   "metadata": {},
   "outputs": [],
   "source": [
    "# FIX ME PLEASE #"
   ]
  },
  {
   "cell_type": "markdown",
   "metadata": {},
   "source": [
    "__Respuesta:__"
   ]
  },
  {
   "cell_type": "markdown",
   "metadata": {},
   "source": [
    "#### Ejercicio 9\n",
    "\n",
    "(10 puntos)\n",
    "\n",
    "Propón y responde una pregunta que puedas resolver analizando dos o más conjuntos de datos del repositorio oficial de datos COVID-19 del Ministerio de Ciencia, Tecnología e Innovación de Chile ([link](https://github.com/MinCiencia/Datos-COVID19)). Sin utilizar ninguno de los datasets que hayas utilizado en el ejercicio 8.\n",
    "\n",
    "Se evaluará originalidad, análisis de datos, calidad de la pregunta y respuesta."
   ]
  },
  {
   "cell_type": "markdown",
   "metadata": {},
   "source": [
    "__Pregunta:__"
   ]
  },
  {
   "cell_type": "code",
   "execution_count": null,
   "metadata": {},
   "outputs": [],
   "source": [
    "# FIX ME PLEASE #"
   ]
  },
  {
   "cell_type": "markdown",
   "metadata": {},
   "source": [
    "__Respuesta:__"
   ]
  }
 ],
 "metadata": {
  "kernelspec": {
   "display_name": "Python 3",
   "language": "python",
   "name": "python3"
  },
  "language_info": {
   "codemirror_mode": {
    "name": "ipython",
    "version": 3
   },
   "file_extension": ".py",
   "mimetype": "text/x-python",
   "name": "python",
   "nbconvert_exporter": "python",
   "pygments_lexer": "ipython3",
   "version": "3.8.5"
  }
 },
 "nbformat": 4,
 "nbformat_minor": 4
}
