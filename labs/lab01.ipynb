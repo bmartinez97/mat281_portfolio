{
 "cells": [
  {
   "cell_type": "markdown",
   "metadata": {},
   "source": [
    "# MAT281 - Laboratorio 1"
   ]
  },
  {
   "cell_type": "markdown",
   "metadata": {},
   "source": [
    "## Ejercicio 1\n",
    "\n",
    "(1 punto)\n",
    "\n",
    "__Calcular $\\pi$:__ En los siglos XVII y XVIII, James Gregory y Gottfried Leibniz descubrieron una serie infinita que sirve para calcular $\\pi$:\n",
    "\n",
    "$$\\pi = 4 \\sum_{k=1}^{\\infty}\\dfrac{(-1)^{k+1}}{2k-1} = 4(1-\\dfrac{1}{3}+\\dfrac{1}{5}-\\dfrac{1}{7} + ...) $$\n",
    "\n",
    "Implemente la función `calcular_pi` para estimar el valor de $\\pi$ ocupando el método de Leibniz, donde el argumento debe ser un número entero $n$ que indique la cantidad de términos sumados, es decir: \n",
    "\n",
    "$$\\pi \\approx 4 \\sum_{k=1}^{n}\\dfrac{(-1)^{k+1}}{2k-1} $$"
   ]
  },
  {
   "cell_type": "code",
   "execution_count": 6,
   "metadata": {},
   "outputs": [],
   "source": [
    "def calcular_pi(n:int) -> float:\n",
    "    \n",
    "    \"\"\"\n",
    "    Aproximacion del valor de pi mediante el método de Leibniz\n",
    "\n",
    "    Parameters\n",
    "    ----------\n",
    "    n : int\n",
    "        Numero de terminos en la sumatoria.\n",
    "\n",
    "    Returns\n",
    "    -------\n",
    "    output : float\n",
    "        Valor aproximado de pi.\n",
    "        \n",
    "    Examples\n",
    "    --------\n",
    "    >>> calcular_pi(3)\n",
    "    3.466666666666667\n",
    "    \n",
    "    >>> calcular_pi(1000) \n",
    "    3.140592653839794\n",
    "    \"\"\"\n",
    "    \n",
    "    pi = 0  # Se inicializa la suma parcial\n",
    "    for k in range(1, n+1):\n",
    "        numerador = (-1)**(k+1)\n",
    "        denominador = 2*k-1\n",
    "        pi += numerador / denominador  # Agregar numerador/denominador a la suma total\n",
    "    pi = 4 * pi  # Se ajusta al valor real\n",
    "    return pi"
   ]
  },
  {
   "cell_type": "code",
   "execution_count": 11,
   "metadata": {},
   "outputs": [
    {
     "data": {
      "text/plain": [
       "3.466666666666667"
      ]
     },
     "execution_count": 11,
     "metadata": {},
     "output_type": "execute_result"
    }
   ],
   "source": [
    "calcular_pi(3)"
   ]
  },
  {
   "cell_type": "code",
   "execution_count": 12,
   "metadata": {},
   "outputs": [
    {
     "data": {
      "text/plain": [
       "3.140592653839794"
      ]
     },
     "execution_count": 12,
     "metadata": {},
     "output_type": "execute_result"
    }
   ],
   "source": [
    "calcular_pi(1000)"
   ]
  },
  {
   "cell_type": "markdown",
   "metadata": {},
   "source": [
    "## Problema 2\n",
    "\n",
    "La [conjetura de Collatz](https://en.wikipedia.org/wiki/Collatz_conjecture), conocida también como conjetura $3n+1$ o conjetura de Ulam (entre otros nombres), fue enunciada por el matemático Lothar Collatz en 1937, y a la fecha no se ha resuelto.\n",
    "\n",
    "Sea la siguiente operación, aplicable a cualquier número entero positivo:\n",
    "* Si el número es par, se divide entre 2.\n",
    "* Si el número es impar, se multiplica por 3 y se suma 1.\n",
    "\n",
    "La conjetura dice que siempre alcanzaremos el 1 (y por tanto el ciclo 4, 2, 1) para cualquier número con el que comencemos. \n",
    "\n",
    "Implemente una función llamada `collatz` cuyo input sea un número natural positivo $N$ y como output retorne una lista con la secuencia de la conjetura de Collatz hasta llegar a 1.\n",
    "\n",
    "**Ejemplo**: *collatz(9)* = [9, 28, 14, 7, 22, 11, 34, 17, 52, 26, 13, 40, 20, 10, 5, 16, 8, 4, 2, 1]"
   ]
  },
  {
   "cell_type": "code",
   "execution_count": 30,
   "metadata": {},
   "outputs": [],
   "source": [
    "def collatz(n:int) -> list:\n",
    "    if n <= 0:\n",
    "        raise Exception(\"Input n must be greater or equal than 1.\")\n",
    "    elif n == 1:\n",
    "        return [1]\n",
    "    else:\n",
    "        value = n  # Instanciar valor inicial que se usa como variable auxiliar y sobrescribirla.\n",
    "        collatz_list = [value]  # Instanciar lista con el primer elemento\n",
    "        while value != 1:  # Cuando parar?\n",
    "            if not value % 2:  # Primera condicion\n",
    "                value = value // 2\n",
    "            else:\n",
    "                value = value * 3 + 1\n",
    "            collatz_list.append(value)\n",
    "        return collatz_list"
   ]
  },
  {
   "cell_type": "code",
   "execution_count": 33,
   "metadata": {},
   "outputs": [
    {
     "ename": "Exception",
     "evalue": "Input n must be greater or equal than 1.",
     "output_type": "error",
     "traceback": [
      "\u001b[0;31m---------------------------------------------------------------------------\u001b[0m",
      "\u001b[0;31mException\u001b[0m                                 Traceback (most recent call last)",
      "\u001b[0;32m<ipython-input-33-33ef59f334a7>\u001b[0m in \u001b[0;36m<module>\u001b[0;34m\u001b[0m\n\u001b[0;32m----> 1\u001b[0;31m \u001b[0mcollatz\u001b[0m\u001b[0;34m(\u001b[0m\u001b[0;34m-\u001b[0m\u001b[0;36m1\u001b[0m\u001b[0;34m)\u001b[0m\u001b[0;34m\u001b[0m\u001b[0;34m\u001b[0m\u001b[0m\n\u001b[0m",
      "\u001b[0;32m<ipython-input-30-cfee0e37b66b>\u001b[0m in \u001b[0;36mcollatz\u001b[0;34m(n)\u001b[0m\n\u001b[1;32m      1\u001b[0m \u001b[0;32mdef\u001b[0m \u001b[0mcollatz\u001b[0m\u001b[0;34m(\u001b[0m\u001b[0mn\u001b[0m\u001b[0;34m:\u001b[0m\u001b[0mint\u001b[0m\u001b[0;34m)\u001b[0m \u001b[0;34m->\u001b[0m \u001b[0mlist\u001b[0m\u001b[0;34m:\u001b[0m\u001b[0;34m\u001b[0m\u001b[0;34m\u001b[0m\u001b[0m\n\u001b[1;32m      2\u001b[0m     \u001b[0;32mif\u001b[0m \u001b[0mn\u001b[0m \u001b[0;34m<=\u001b[0m \u001b[0;36m0\u001b[0m\u001b[0;34m:\u001b[0m\u001b[0;34m\u001b[0m\u001b[0;34m\u001b[0m\u001b[0m\n\u001b[0;32m----> 3\u001b[0;31m         \u001b[0;32mraise\u001b[0m \u001b[0mException\u001b[0m\u001b[0;34m(\u001b[0m\u001b[0;34m\"Input n must be greater or equal than 1.\"\u001b[0m\u001b[0;34m)\u001b[0m\u001b[0;34m\u001b[0m\u001b[0;34m\u001b[0m\u001b[0m\n\u001b[0m\u001b[1;32m      4\u001b[0m     \u001b[0;32melif\u001b[0m \u001b[0mn\u001b[0m \u001b[0;34m==\u001b[0m \u001b[0;36m1\u001b[0m\u001b[0;34m:\u001b[0m\u001b[0;34m\u001b[0m\u001b[0;34m\u001b[0m\u001b[0m\n\u001b[1;32m      5\u001b[0m         \u001b[0;32mreturn\u001b[0m \u001b[0;34m[\u001b[0m\u001b[0;36m1\u001b[0m\u001b[0;34m]\u001b[0m\u001b[0;34m\u001b[0m\u001b[0;34m\u001b[0m\u001b[0m\n",
      "\u001b[0;31mException\u001b[0m: Input n must be greater or equal than 1."
     ]
    }
   ],
   "source": [
    "collatz(-1)"
   ]
  },
  {
   "cell_type": "code",
   "execution_count": 34,
   "metadata": {},
   "outputs": [
    {
     "data": {
      "text/plain": [
       "[1]"
      ]
     },
     "execution_count": 34,
     "metadata": {},
     "output_type": "execute_result"
    }
   ],
   "source": [
    "collatz(1)"
   ]
  },
  {
   "cell_type": "code",
   "execution_count": 35,
   "metadata": {},
   "outputs": [
    {
     "data": {
      "text/plain": [
       "[9, 28, 14, 7, 22, 11, 34, 17, 52, 26, 13, 40, 20, 10, 5, 16, 8, 4, 2, 1]"
      ]
     },
     "execution_count": 35,
     "metadata": {},
     "output_type": "execute_result"
    }
   ],
   "source": [
    "collatz(9)"
   ]
  },
  {
   "cell_type": "code",
   "execution_count": 36,
   "metadata": {},
   "outputs": [
    {
     "data": {
      "text/plain": [
       "[120,\n",
       " 60,\n",
       " 30,\n",
       " 15,\n",
       " 46,\n",
       " 23,\n",
       " 70,\n",
       " 35,\n",
       " 106,\n",
       " 53,\n",
       " 160,\n",
       " 80,\n",
       " 40,\n",
       " 20,\n",
       " 10,\n",
       " 5,\n",
       " 16,\n",
       " 8,\n",
       " 4,\n",
       " 2,\n",
       " 1]"
      ]
     },
     "execution_count": 36,
     "metadata": {},
     "output_type": "execute_result"
    }
   ],
   "source": [
    "collatz(120)"
   ]
  },
  {
   "cell_type": "markdown",
   "metadata": {},
   "source": [
    "## Problema 3\n",
    "\n",
    "(2 puntos)\n",
    "\n",
    "Sea $\\sigma(n)$ definido como la suma de los divisores propios de $n$ (es decir, menores a $n$). Los [números amigos](https://en.wikipedia.org/wiki/Amicable_numbers) son  enteros positivos $n_1$ y $n_2$ tales que la suma de los divisores propios de uno es igual al otro número y viceversa, es decir: \n",
    "\n",
    "$$\\sigma(n_1)=n_2 \\quad \\textrm{y} \\quad \\sigma(n_2)=n_1$$\n",
    "\n",
    "\n",
    "Por ejemplo, los números 220 y 284 son números amigos.\n",
    "* los divisores propios de 220 son 1, 2, 4, 5, 10, 11, 20, 22, 44, 55 y 110, por ende $\\sigma(220) = 284$. \n",
    "* los divisores propios de 284 son 1, 2, 4, 71 y 142, por ende $\\sigma(284) = 220$.\n",
    "\n",
    "Implemente las siguientes funciones:\n",
    "\n",
    "* `divisores(n)` tal que retorne una lista con los divisores propios de $n$.\n",
    "* `sigma(n)` tal que retorne el valor $\\sigma(n)$.\n",
    "* `amigos(n, m)` tal que retorne `True` si $n$ y $m$ son números amigos y `False` en caso contrario."
   ]
  },
  {
   "cell_type": "code",
   "execution_count": 24,
   "metadata": {},
   "outputs": [],
   "source": [
    "def divisores(n:int) -> list:\n",
    "    divisors = [] \n",
    "    # No es necesario ser eficiente, basta con una búsqueda exhaustiva.\n",
    "    for i in range(1, n):\n",
    "        if n % i == 0:  # Tip: Usar operación módulo\n",
    "            divisors.append(i)\n",
    "    return divisors\n",
    "\n",
    "\n",
    "def sigma(n:int) -> int:\n",
    "    return sum(divisores(n)) # Sumar todos los valores de la lista divisores(n)\n",
    "        \n",
    "    \n",
    "def amigos(n:int, m:int) -> bool:\n",
    "    sigma_n = sigma(n)\n",
    "    sigma_m = sigma(m)\n",
    "    if sigma(n) == m and sigma(m) == n:\n",
    "        return True\n",
    "    else:\n",
    "        return False"
   ]
  },
  {
   "cell_type": "code",
   "execution_count": 28,
   "metadata": {},
   "outputs": [
    {
     "name": "stdout",
     "output_type": "stream",
     "text": [
      "Los divisores de 220 son [1, 2, 4, 5, 10, 11, 20, 22, 44, 55, 110], por ende sigma(220) es 284\n",
      "Los divisores de 284 son [1, 2, 4, 71, 142], por ende sigma(284) es 220\n",
      "¿220 y 284 son números amigos?: True\n"
     ]
    }
   ],
   "source": [
    "n, m = 220, 284\n",
    "print(f\"Los divisores de {n} son {divisores(n)}, por ende sigma({n}) es {sigma(n)}\")\n",
    "print(f\"Los divisores de {m} son {divisores(m)}, por ende sigma({m}) es {sigma(m)}\")\n",
    "print(f\"¿{n} y {m} son números amigos?: {amigos(n, m)}\")"
   ]
  },
  {
   "cell_type": "code",
   "execution_count": 27,
   "metadata": {},
   "outputs": [
    {
     "name": "stdout",
     "output_type": "stream",
     "text": [
      "Los divisores de 1184 son [1, 2, 4, 8, 16, 32, 37, 74, 148, 296, 592], por ende sigma(1184) es 1210\n",
      "Los divisores de 1210 son [1, 2, 5, 10, 11, 22, 55, 110, 121, 242, 605], por ende sigma(1210) es 1184\n",
      "¿1184 y 1210 son números amigos?: True\n"
     ]
    }
   ],
   "source": [
    "n, m = 1184, 1210\n",
    "print(f\"Los divisores de {n} son {divisores(n)}, por ende sigma({n}) es {sigma(n)}\")\n",
    "print(f\"Los divisores de {m} son {divisores(m)}, por ende sigma({m}) es {sigma(m)}\")\n",
    "print(f\"¿{n} y {m} son números amigos?: {amigos(n, m)}\")"
   ]
  },
  {
   "cell_type": "code",
   "execution_count": 29,
   "metadata": {},
   "outputs": [
    {
     "name": "stdout",
     "output_type": "stream",
     "text": [
      "Los divisores de 10 son [1, 2, 5], por ende sigma(10) es 8\n",
      "Los divisores de 40 son [1, 2, 4, 5, 8, 10, 20], por ende sigma(40) es 50\n",
      "¿10 y 40 son números amigos?: False\n"
     ]
    }
   ],
   "source": [
    "n, m = 10, 40\n",
    "print(f\"Los divisores de {n} son {divisores(n)}, por ende sigma({n}) es {sigma(n)}\")\n",
    "print(f\"Los divisores de {m} son {divisores(m)}, por ende sigma({m}) es {sigma(m)}\")\n",
    "print(f\"¿{n} y {m} son números amigos?: {amigos(n, m)}\")"
   ]
  }
 ],
 "metadata": {
  "kernelspec": {
   "display_name": "Python 3",
   "language": "python",
   "name": "python3"
  },
  "language_info": {
   "codemirror_mode": {
    "name": "ipython",
    "version": 3
   },
   "file_extension": ".py",
   "mimetype": "text/x-python",
   "name": "python",
   "nbconvert_exporter": "python",
   "pygments_lexer": "ipython3",
   "version": "3.8.3"
  }
 },
 "nbformat": 4,
 "nbformat_minor": 4
}
